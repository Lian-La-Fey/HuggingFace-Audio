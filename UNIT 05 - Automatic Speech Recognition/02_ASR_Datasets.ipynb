{
 "cells": [
  {
   "cell_type": "markdown",
   "metadata": {},
   "source": [
    "# Choosing a dataset\n",
    "\n",
    "Her makine öğrenimi probleminde olduğu gibi, modelimiz yalnızca üzerinde eğittiğimiz veriler kadar iyidir. Konuşma tanıma veri kümeleri, nasıl düzenlendikleri ve kapsadıkları alanlar açısından önemli ölçüde farklılık gösterir. Doğru veri kümesini seçmek için kriterlerimizi veri kümesinin sunduğu özelliklerle eşleştirmemiz gerekir.\n",
    "\n",
    "Bir veri kümesi seçmeden önce, öncelikle temel tanımlayıcı özellikleri anlamamız gerekir."
   ]
  },
  {
   "cell_type": "markdown",
   "metadata": {
    "vscode": {
     "languageId": "plaintext"
    }
   },
   "source": [
    "## Features of speech datasets\n",
    "\n",
    "1. **Number of hours**\n",
    "\n",
    "Basitçe söylemek gerekirse, eğitim saati sayısı veri kümesinin ne kadar büyük olduğunu gösterir. Bir NLP veri setindeki eğitim örneklerinin sayısına benzer. Ancak, daha büyük veri kümeleri mutlaka daha iyi değildir. İyi genelleme yapan bir model istiyorsak, çok sayıda farklı konuşmacı, alan ve konuşma tarzı içeren çeşitli bir veri kümesi isteriz.\n",
    "\n",
    "2. **Domain**\n",
    "\n",
    "Etki alanı, sesli kitaplar, podcast'ler, YouTube veya finansal toplantılar gibi verilerin nereden elde edildiğini belirtir. Her alan farklı bir veri dağılımına sahiptir. Örneğin, sesli kitaplar yüksek kaliteli stüdyo koşullarında (arka plan gürültüsü olmadan) ve yazılı literatürden alınan metinlerle kaydedilir. YouTube'da ise ses muhtemelen daha fazla arka plan gürültüsü ve daha resmi olmayan bir konuşma tarzı içerir.\n",
    "\n",
    "Etki alanımızı çıkarım zamanında beklediğimiz koşullarla eşleştirmemiz gerekir. Örneğin, modelimizi sesli kitaplar üzerinde eğitirsek, gürültülü ortamlarda iyi performans göstermesini bekleyemeyiz.\n",
    "\n",
    "3. **Speaking style**\n",
    "\n",
    "Konuşma tarzı iki kategoriden birine girer:\n",
    "\n",
    "Anlatılan(Narrated): bir senaryodan okunan \n",
    "Spontane: senaryolaştırılmamış, karşılıklı konuşma \n",
    "\n",
    "Ses ve metin verileri konuşma tarzını yansıtır. Anlatılan metin senaryolaştırıldığından, anlaşılır ve hatasız konuşulma eğilimindedir:\n",
    "\n",
    "`“Consider the task of training a model on a speech recognition dataset”`\n",
    "\n",
    "Spontane konuşmalarda ise, tekrarlar, tereddütler ve yanlış başlangıçlar içeren daha konuşma diline özgü bir konuşma tarzı beklenebilir:\n",
    "\n",
    "`“Let’s uhh let's take a look at how you'd go about training a model on uhm a sp- speech recognition dataset”`\n",
    "\n",
    "4. **Transcription style**\n",
    "\n",
    "Transkripsiyon stili, hedef metnin noktalama işaretlerine, büyük/küçük harf kullanımına veya her ikisine sahip olup olmadığını ifade eder. Bir sistemin bir yayın veya toplantı transkripsiyonu için kullanılabilecek tamamen biçimlendirilmiş metin üretmesini istiyorsak, noktalama işaretleri ve büyük/küçük harf içeren eğitim verilerine ihtiyacımız vardır. Eğer sadece konuşulan kelimelerin biçimlendirilmemiş bir yapıda olmasını istiyorsak, ne noktalama işaretlerine ne de büyük/küçük harf kullanımına gerek vardır. Bu durumda, ya noktalama işareti ya da büyük/küçük harf içermeyen bir veri kümesi seçebiliriz ya da noktalama işareti ve büyük/küçük harf içeren bir veri kümesi seçip daha sonra ön işleme yoluyla bunları hedef metinden kaldırabiliriz."
   ]
  },
  {
   "cell_type": "markdown",
   "metadata": {
    "vscode": {
     "languageId": "plaintext"
    }
   },
   "source": [
    "## A summary of datasets on the Hub\n",
    "\n",
    "İşte Hugging Face Hub'daki en popüler İngilizce konuşma tanıma veri kümelerinin bir özeti:\n",
    "\n",
    "![](./en_asr_dataset.png)\n",
    "\n",
    "Bu tablo, kriterinize göre bir veri kümesi seçmek için bir referans görevi görür. Aşağıda çok dilli konuşma tanıma için eşdeğer bir tablo bulunmaktadır. Her veri kümesi için dile bağlı olarak değiştiğinden, eğitim saatleri sütununu çıkardığımızı ve veri kümesi başına dil sayısı ile değiştirdiğimizi unutmayın:\n",
    "\n",
    "![](./en_asr_dataset_multilingual.png)\n",
    "\n",
    "Her iki tabloda yer alan ses veri kümelerinin ayrıntılı bir dökümü için [A Complete Guide to Audio Datasets](https://huggingface.co/blog/audio-datasets#a-tour-of-audio-datasets-on-the-hub) blog gönderisine bakın. Hub'da 180'den fazla konuşma tanıma veri kümesi bulunsa da, ihtiyaçlarınıza uygun bir veri kümesi bulunmayabilir. Bu durumda, Datasets ile kendi ses verilerinizi kullanmanız da mümkündür. Özel bir ses veri kümesi oluşturmak için Ses veri kümesi oluşturma kılavuzuna bakın. Özel bir ses veri kümesi oluştururken, topluluktaki diğer kişilerin çabalarınızdan yararlanabilmesi için son veri kümesini Hub'da paylaşmayı düşünün - ses topluluğu kapsayıcı ve geniş kapsamlıdır ve diğerleri sizin yaptığınız gibi sizin çalışmanızı da takdir edecektir.\n",
    "\n",
    "Pekala! Bir ASR veri kümesi seçmek için tüm kriterleri gözden geçirdiğimize göre, şimdi bu eğitimin amacı için bir tane seçelim. Whisper'ın yüksek kaynaklı dillerdeki (İngilizce ve İspanyolca gibi) verileri yazıya dökmede zaten oldukça iyi bir iş çıkardığını biliyoruz, bu nedenle kendimizi düşük kaynaklı çok dilli transkripsiyona odaklayacağız. Whisper'ın noktalama işaretlerini ve büyük/küçük harfleri tahmin etme yeteneğini korumak istiyoruz, bu nedenle ikinci tablodan Common Voice 13'ün harika bir aday veri kümesi olduğu görülüyor!"
   ]
  },
  {
   "cell_type": "markdown",
   "metadata": {
    "vscode": {
     "languageId": "plaintext"
    }
   },
   "source": [
    "### Common Voice 13\n",
    "\n",
    "Common Voice 13, konuşmacıların Wikipedia'dan çeşitli dillerde metin kaydettiği kitle kaynaklı bir veri kümesidir. Mozilla Vakfı tarafından yayımlanan Common Voice veri setleri koleksiyonu olan Common Voice serisinin bir parçasını oluşturmaktadır. Bu yazının yazıldığı sırada Common Voice 13, bugüne kadarki sürümler arasında en fazla dil ve dil başına saat içeren veri setinin en son sürümüdür.\n",
    "\n",
    "Common Voice 13 veri seti için dillerin tam listesini Hub'daki veri seti sayfasını kontrol ederek elde edebiliriz: mozilla-foundation/common_voice_13_0. Bu sayfayı ilk kez görüntülediğinizde, kullanım koşullarını kabul etmeniz istenecektir. Bundan sonra veri setine tam erişiminiz olacak.\n",
    "\n",
    "Veri kümesini kullanmak için kimlik doğrulaması yaptıktan sonra, veri kümesi önizlemesi ile karşılaşacağız. Veri kümesi önizlemesi bize her dil için veri kümesinin ilk 100 örneğini gösterir. Dahası, gerçek zamanlı olarak dinleyebilmemiz için hazır ses örnekleriyle yüklüdür. Bu Ünite için, Güney Asya ada ülkesi Maldivler'de konuşulan bir Hint-Aryan dili olan Dhivehi'yi (veya Maldivce) seçeceğiz. Bu eğitim için Dhivehi dilini seçmiş olsak da, burada anlatılan adımlar Common Voice 13 veri kümesindeki 108 dilden herhangi biri için ve daha genel olarak Hugging Face Hub'daki 180'den fazla ses veri kümesinden herhangi biri için geçerlidir, bu nedenle dil veya lehçe kısıtlaması yoktur.\n",
    "\n",
    "Açılır menüyü kullanarak alt kümeyi dv olarak ayarlayarak Common Voice 13'ün Dhivehi alt kümesini seçebiliriz (dv, Dhivehi için dil tanımlayıcı kodudur):\n",
    "\n",
    "![](https://huggingface.co/datasets/huggingface-course/audio-course-images/resolve/main/cv_13_dv_selection.png)\n",
    "\n",
    "İlk örnekte oynat düğmesine basarsak sesi dinleyebilir ve ilgili metni görebiliriz. Üzerinde çalıştığımız ses ve metin verileri hakkında daha iyi bir fikir edinmek için eğitim ve test setlerine ait örnekler arasında gezinin. Tonlama ve stilden kayıtların anlatılan konuşmadan alındığını anlayabilirsiniz. Ayrıca, kitle kaynaklı verilerin ortak bir özelliği olan konuşmacılar ve kayıt kalitesi arasındaki büyük farklılığı da muhtemelen fark edeceksiniz.\n",
    "\n",
    "Veri Kümesi Önizlemesi, ses veri kümelerini kullanmaya başlamadan önce onları deneyimlemenin mükemmel bir yoludur. Hub'daki herhangi bir veri kümesini seçebilir, örnekler arasında gezinebilir ve farklı alt kümeler ve bölünmeler için sesi dinleyerek ihtiyaçlarınız için doğru veri kümesi olup olmadığını ölçebilirsiniz. Bir veri kümesi seçtikten sonra, kullanmaya başlayabilmeniz için verileri yüklemek çok kolay.\n",
    "\n",
    "Ben şahsen Divehice bilmiyorum ve okuyucuların büyük çoğunluğunun da bilmemesini bekliyorum! İnce ayarlı modelimizin iyi olup olmadığını anlamak için, onu görünmeyen veriler üzerinde değerlendirmenin ve transkripsiyon doğruluğunu ölçmenin titiz bir yoluna ihtiyacımız olacak. Bir sonraki bölümde tam olarak bunu ele alacağız!"
   ]
  }
 ],
 "metadata": {
  "language_info": {
   "name": "python"
  }
 },
 "nbformat": 4,
 "nbformat_minor": 2
}
